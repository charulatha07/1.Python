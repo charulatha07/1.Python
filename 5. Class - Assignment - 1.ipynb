{
 "cells": [
  {
   "cell_type": "code",
   "execution_count": 2,
   "id": "adf95188",
   "metadata": {},
   "outputs": [],
   "source": [
    "from myfunctions import multiplefunctions"
   ]
  },
  {
   "cell_type": "code",
   "execution_count": 4,
   "id": "897c8e62",
   "metadata": {},
   "outputs": [
    {
     "name": "stdout",
     "output_type": "stream",
     "text": [
      "Enter a number: 52452\n",
      "52452 is Even Number\n"
     ]
    },
    {
     "data": {
      "text/plain": [
       "(52452, 'is Even Number')"
      ]
     },
     "execution_count": 4,
     "metadata": {},
     "output_type": "execute_result"
    }
   ],
   "source": [
    "multiplefunctions.OddEven()"
   ]
  },
  {
   "cell_type": "code",
   "execution_count": 5,
   "id": "3732d59c",
   "metadata": {},
   "outputs": [
    {
     "name": "stdout",
     "output_type": "stream",
     "text": [
      "Your Gender : male\n",
      "Your Age : 20\n",
      "NOT ELIGIBLE\n"
     ]
    }
   ],
   "source": [
    "multiplefunctions.EligibleForM()"
   ]
  },
  {
   "cell_type": "code",
   "execution_count": 6,
   "id": "e5d4e92f",
   "metadata": {},
   "outputs": [
    {
     "name": "stdout",
     "output_type": "stream",
     "text": [
      "Subject1=98\n",
      "Subject2=87\n",
      "Subject3=95\n",
      "Subject4=95\n",
      "Subject5=93\n",
      "Total: 468\n",
      "Percentage: 93.60000000000001\n"
     ]
    }
   ],
   "source": [
    "multiplefunctions.percentage()"
   ]
  },
  {
   "cell_type": "code",
   "execution_count": 8,
   "id": "62bda40b",
   "metadata": {},
   "outputs": [
    {
     "name": "stdout",
     "output_type": "stream",
     "text": [
      "Height : 32\n",
      "Breadth : 34\n",
      "Area formula : (Height*Breadth)/2\n",
      "Area of Triangle : 544.0\n"
     ]
    }
   ],
   "source": [
    "multiplefunctions.AreaOfTriangle()"
   ]
  },
  {
   "cell_type": "code",
   "execution_count": 9,
   "id": "75cef2bf",
   "metadata": {},
   "outputs": [
    {
     "name": "stdout",
     "output_type": "stream",
     "text": [
      "Height1 : 2\n",
      "Height2 : 4\n",
      "Breadth : 4\n",
      "Perimeter formula: Heigth1+Height2+Breadth\n",
      "Perimeter of Triangle: 10\n"
     ]
    }
   ],
   "source": [
    "multiplefunctions. PerimeterOfTriangle()"
   ]
  },
  {
   "cell_type": "code",
   "execution_count": 10,
   "id": "df6391c4",
   "metadata": {},
   "outputs": [
    {
     "name": "stdout",
     "output_type": "stream",
     "text": [
      "Sub-fields in AI are:\n"
     ]
    },
    {
     "ename": "NameError",
     "evalue": "name 'SubFieldsInAI' is not defined",
     "output_type": "error",
     "traceback": [
      "\u001b[1;31m---------------------------------------------------------------------------\u001b[0m",
      "\u001b[1;31mNameError\u001b[0m                                 Traceback (most recent call last)",
      "Cell \u001b[1;32mIn[10], line 1\u001b[0m\n\u001b[1;32m----> 1\u001b[0m multiplefunctions\u001b[38;5;241m.\u001b[39mSubfields()\n",
      "File \u001b[1;32mC:\\AI course\\python\\myfunctions.py:5\u001b[0m, in \u001b[0;36mmultiplefunctions.Subfields\u001b[1;34m()\u001b[0m\n\u001b[0;32m      3\u001b[0m SubfieldsInAI\u001b[38;5;241m=\u001b[39m[\u001b[38;5;124m\"\u001b[39m\u001b[38;5;124mMachine Learning\u001b[39m\u001b[38;5;124m\"\u001b[39m, \u001b[38;5;124m\"\u001b[39m\u001b[38;5;124mNeural Networks\u001b[39m\u001b[38;5;124m\"\u001b[39m, \u001b[38;5;124m\"\u001b[39m\u001b[38;5;124mVision\u001b[39m\u001b[38;5;124m\"\u001b[39m, \u001b[38;5;124m\"\u001b[39m\u001b[38;5;124mRobotics\u001b[39m\u001b[38;5;124m\"\u001b[39m, \u001b[38;5;124m\"\u001b[39m\u001b[38;5;124mSpeech Processing\u001b[39m\u001b[38;5;124m\"\u001b[39m, \u001b[38;5;124m\"\u001b[39m\u001b[38;5;124mNatural Language Processing\u001b[39m\u001b[38;5;124m\"\u001b[39m]\n\u001b[0;32m      4\u001b[0m \u001b[38;5;28mprint\u001b[39m(\u001b[38;5;124m\"\u001b[39m\u001b[38;5;124mSub-fields in AI are:\u001b[39m\u001b[38;5;124m\"\u001b[39m)\n\u001b[1;32m----> 5\u001b[0m \u001b[38;5;28;01mfor\u001b[39;00m i \u001b[38;5;129;01min\u001b[39;00m SubFieldsInAI:\n\u001b[0;32m      6\u001b[0m     \u001b[38;5;28mprint\u001b[39m(i)\n",
      "\u001b[1;31mNameError\u001b[0m: name 'SubFieldsInAI' is not defined"
     ]
    }
   ],
   "source": [
    "multiplefunctions.Subfields()"
   ]
  },
  {
   "cell_type": "code",
   "execution_count": null,
   "id": "a401824d",
   "metadata": {},
   "outputs": [],
   "source": []
  }
 ],
 "metadata": {
  "kernelspec": {
   "display_name": "Python 3 (ipykernel)",
   "language": "python",
   "name": "python3"
  },
  "language_info": {
   "codemirror_mode": {
    "name": "ipython",
    "version": 3
   },
   "file_extension": ".py",
   "mimetype": "text/x-python",
   "name": "python",
   "nbconvert_exporter": "python",
   "pygments_lexer": "ipython3",
   "version": "3.11.5"
  }
 },
 "nbformat": 4,
 "nbformat_minor": 5
}
