{
 "cells": [
  {
   "cell_type": "code",
   "execution_count": 1,
   "id": "45cb563c",
   "metadata": {},
   "outputs": [],
   "source": [
    "#create a class and function, and list out the items in the list\n",
    "\n",
    "SubfieldsInAI=[\"Machine Learning\", \"Neural Networks\", \"Vision\", \"Robotics\", \"Speech Processing\", \"Natural Language Processing\"]"
   ]
  },
  {
   "cell_type": "code",
   "execution_count": 2,
   "id": "eee2d1c6",
   "metadata": {},
   "outputs": [],
   "source": [
    "def Subfields():\n",
    "    print(\"Sub-fields in AI are:\")\n",
    "    for i in SubFieldsInAI:\n",
    "        print(i)"
   ]
  },
  {
   "cell_type": "code",
   "execution_count": 3,
   "id": "9f09825a",
   "metadata": {
    "scrolled": true
   },
   "outputs": [
    {
     "name": "stdout",
     "output_type": "stream",
     "text": [
      "Sub-fields in AI are:\n",
      "Machine Learning\n",
      "Neural Networks\n",
      "Vision\n",
      "Robotics\n",
      "Speech Processing\n",
      "Natural Language Processing\n"
     ]
    }
   ],
   "source": [
    "Subfields()"
   ]
  },
  {
   "cell_type": "code",
   "execution_count": 4,
   "id": "9219213c",
   "metadata": {},
   "outputs": [],
   "source": [
    "# Create a function that checks whether the given number is odd or even"
   ]
  },
  {
   "cell_type": "code",
   "execution_count": 5,
   "id": "2cf9f68f",
   "metadata": {},
   "outputs": [],
   "source": [
    "def OddEven():\n",
    "    num=int(input(\"Enter a number: \"))\n",
    "    if(num%2!=0):\n",
    "        print(num, \"is odd Number\")\n",
    "        message = num, \"is odd Number\"\n",
    "    else:\n",
    "        print(num, \"is Even Number\")\n",
    "        message = num,\"is Even Number\"\n",
    "        return message\n"
   ]
  },
  {
   "cell_type": "code",
   "execution_count": 7,
   "id": "1219c550",
   "metadata": {},
   "outputs": [
    {
     "name": "stdout",
     "output_type": "stream",
     "text": [
      "Enter a number: 52452\n",
      "52452 is Even Number\n"
     ]
    }
   ],
   "source": [
    "mess=OddEven()"
   ]
  },
  {
   "cell_type": "code",
   "execution_count": 8,
   "id": "7efcc52d",
   "metadata": {},
   "outputs": [],
   "source": [
    "# Create a function that tells eligibility of marriage for male and female  "
   ]
  },
  {
   "cell_type": "code",
   "execution_count": 9,
   "id": "aac0e829",
   "metadata": {},
   "outputs": [],
   "source": [
    "def EligibleForM():\n",
    "    Gender=input(\"Your Gender : \")\n",
    "    Age=int(input(\"Your Age : \"))\n",
    "    if(Gender == \"Male\" and Age>21):\n",
    "        message=print(\"ELIGIBLE\")\n",
    "    elif(Gender==\"Female\" and Age>18):\n",
    "        message=print(\"ELIGIBLE\")\n",
    "    else:\n",
    "        message=print(\"NOT ELIGIBLE\")\n",
    "    return message"
   ]
  },
  {
   "cell_type": "code",
   "execution_count": 11,
   "id": "9a7f5bbd",
   "metadata": {},
   "outputs": [
    {
     "name": "stdout",
     "output_type": "stream",
     "text": [
      "Your Gender : Male\n",
      "Your Age : 20\n",
      "NOT ELIGIBLE\n"
     ]
    }
   ],
   "source": [
    "EligibleForM()"
   ]
  },
  {
   "cell_type": "code",
   "execution_count": 12,
   "id": "374f824f",
   "metadata": {},
   "outputs": [],
   "source": [
    "#Calculate the percentage of your 10th mark"
   ]
  },
  {
   "cell_type": "code",
   "execution_count": 13,
   "id": "ebd5ff02",
   "metadata": {},
   "outputs": [],
   "source": [
    "def percentage():\n",
    "    marks=[98,87,95,95,93]\n",
    "    total_marks=sum(marks)\n",
    "    total_sub=len(marks)\n",
    "    percentage=(total_marks/(total_sub *100))*100\n",
    "    for i in range(len(marks)):\n",
    "        print(f\"Subject{i+1}={marks[i]}\")\n",
    "    print(f\"Total: {total_marks}\")\n",
    "    print(f\"Percentage: {percentage}\")"
   ]
  },
  {
   "cell_type": "code",
   "execution_count": 14,
   "id": "f5ca13e7",
   "metadata": {},
   "outputs": [
    {
     "name": "stdout",
     "output_type": "stream",
     "text": [
      "Subject1=98\n",
      "Subject2=87\n",
      "Subject3=95\n",
      "Subject4=95\n",
      "Subject5=93\n",
      "Total: 468\n",
      "Percentage: 93.60000000000001\n"
     ]
    }
   ],
   "source": [
    "percentage()"
   ]
  },
  {
   "cell_type": "code",
   "execution_count": null,
   "id": "388bae37",
   "metadata": {},
   "outputs": [],
   "source": [
    "# print area and perimeter of triangle using class and functions"
   ]
  },
  {
   "cell_type": "code",
   "execution_count": 23,
   "id": "960ff78b",
   "metadata": {},
   "outputs": [],
   "source": [
    "def AreaOfTriangle():\n",
    "    height=int(input(\"Height : \"))\n",
    "    breadth=int(input(\"Breadth : \"))\n",
    "    area=(height*breadth)/2\n",
    "    print(\"Area formula : (Height*Breadth)/2\")\n",
    "    print(\"Area of Triangle :\",area)\n",
    "    \n",
    "def PerimeterOfTriangle():\n",
    "    height1=int(input(\"Height1 : \"))\n",
    "    height2=int(input(\"Height2 : \"))\n",
    "    breadth1=int(input(\"Breadth : \"))\n",
    "    perimeter=height1+height2+breadth1\n",
    "    print(\"Perimeter formula: Heigth1+Height2+Breadth\")\n",
    "    print(\"Perimeter of Triangle:\",perimeter)"
   ]
  },
  {
   "cell_type": "code",
   "execution_count": 24,
   "id": "4d8e8714",
   "metadata": {},
   "outputs": [
    {
     "name": "stdout",
     "output_type": "stream",
     "text": [
      "Height : 32\n",
      "Breadth : 34\n",
      "Area formula : (Height*Breadth)/2\n",
      "Area of Triangle : 544.0\n",
      "Height1 : 2\n",
      "Height2 : 4\n",
      "Breadth : 4\n",
      "Perimeter formula: Heigth1+Height2+Breadth\n",
      "Perimeter of Triangle: 10\n"
     ]
    }
   ],
   "source": [
    "AreaOfTriangle()\n",
    "PerimeterOfTriangle()"
   ]
  },
  {
   "cell_type": "code",
   "execution_count": null,
   "id": "d07930bb",
   "metadata": {},
   "outputs": [],
   "source": []
  }
 ],
 "metadata": {
  "kernelspec": {
   "display_name": "Python 3 (ipykernel)",
   "language": "python",
   "name": "python3"
  },
  "language_info": {
   "codemirror_mode": {
    "name": "ipython",
    "version": 3
   },
   "file_extension": ".py",
   "mimetype": "text/x-python",
   "name": "python",
   "nbconvert_exporter": "python",
   "pygments_lexer": "ipython3",
   "version": "3.11.5"
  }
 },
 "nbformat": 4,
 "nbformat_minor": 5
}
